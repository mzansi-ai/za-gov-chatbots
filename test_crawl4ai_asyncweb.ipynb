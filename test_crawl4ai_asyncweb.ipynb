{
 "cells": [
  {
   "cell_type": "code",
   "execution_count": 1,
   "id": "944002f7-7884-49a6-b6b3-7f91f8e7b17e",
   "metadata": {},
   "outputs": [
    {
     "name": "stdout",
     "output_type": "stream",
     "text": [
      "BEWARE: your OS is not officially supported by Playwright; downloading fallback build for ubuntu22.04-x64.\n",
      "BEWARE: your OS is not officially supported by Playwright; downloading fallback build for ubuntu22.04-x64.\n",
      "BEWARE: your OS is not officially supported by Playwright; downloading fallback build for ubuntu22.04-x64.\n",
      "BEWARE: your OS is not officially supported by Playwright; downloading fallback build for ubuntu22.04-x64.\n",
      "Playwright Host validation warning: \n",
      "╔══════════════════════════════════════════════════════╗\n",
      "║ Host system is missing dependencies to run browsers. ║\n",
      "║ Please install them with the following command:      ║\n",
      "║                                                      ║\n",
      "║     sudo playwright install-deps                     ║\n",
      "║                                                      ║\n",
      "║ Alternatively, use apt:                              ║\n",
      "║     sudo apt-get install libevent-2.1-7              ║\n",
      "║                                                      ║\n",
      "║ <3 Playwright Team                                   ║\n",
      "╚══════════════════════════════════════════════════════╝\n",
      "    at validateDependenciesLinux \u001b[90m(/home/goose/Development/elasticMeetupNov24/\u001b[39m.venv/lib/python3.12/site-packages/playwright/driver/package/lib/server/registry/dependencies.js:216:9\u001b[90m)\u001b[39m\n",
      "\u001b[90m    at process.processTicksAndRejections (node:internal/process/task_queues:95:5)\u001b[39m\n",
      "    at async Registry._validateHostRequirements \u001b[90m(/home/goose/Development/elasticMeetupNov24/\u001b[39m.venv/lib/python3.12/site-packages/playwright/driver/package/lib/server/registry/index.js:626:43\u001b[90m)\u001b[39m\n",
      "    at async Registry._validateHostRequirementsForExecutableIfNeeded \u001b[90m(/home/goose/Development/elasticMeetupNov24/\u001b[39m.venv/lib/python3.12/site-packages/playwright/driver/package/lib/server/registry/index.js:724:7\u001b[90m)\u001b[39m\n",
      "    at async Registry.validateHostRequirementsForExecutablesIfNeeded \u001b[90m(/home/goose/Development/elasticMeetupNov24/\u001b[39m.venv/lib/python3.12/site-packages/playwright/driver/package/lib/server/registry/index.js:713:43\u001b[90m)\u001b[39m\n",
      "    at async t.<anonymous> \u001b[90m(/home/goose/Development/elasticMeetupNov24/\u001b[39m.venv/lib/python3.12/site-packages/playwright/driver/package/lib/cli/program.js:119:7\u001b[90m)\u001b[39m\n"
     ]
    }
   ],
   "source": [
    "!playwright install    "
   ]
  },
  {
   "cell_type": "code",
   "execution_count": 2,
   "id": "e686eeaf-900c-4a0a-a7b7-b15358bce459",
   "metadata": {},
   "outputs": [],
   "source": [
    "import asyncio\n"
   ]
  },
  {
   "cell_type": "code",
   "execution_count": 3,
   "id": "ea9fe3b2-bf51-4168-9aef-57426b1e6412",
   "metadata": {},
   "outputs": [],
   "source": [
    "import nest_asyncio"
   ]
  },
  {
   "cell_type": "code",
   "execution_count": 4,
   "id": "e92919af-20a2-46df-8a15-6ec93f5e138b",
   "metadata": {},
   "outputs": [],
   "source": [
    "\n",
    "\n",
    "nest_asyncio.apply()\n"
   ]
  },
  {
   "cell_type": "code",
   "execution_count": 5,
   "id": "cb2fa4fd-54f0-459c-8e97-b93f462220d7",
   "metadata": {},
   "outputs": [
    {
     "ename": "SyntaxError",
     "evalue": "invalid syntax (2878737419.py, line 1)",
     "output_type": "error",
     "traceback": [
      "\u001b[0;36m  Cell \u001b[0;32mIn[5], line 1\u001b[0;36m\u001b[0m\n\u001b[0;31m    URLS = [x'http://www.education.gov.za', 'https://www.saps.gov.za', 'https://www.gcis.gov.za', 'https://unemployededucators.gauteng.gov.za', 'https://www.dsac.gov.za', 'https://ndlambe.gov.za', 'https://www.gtac.gov.za', 'https://ecprov.gov.za', 'https://www.emalahlenilm.gov.za', ]\u001b[0m\n\u001b[0m             ^\u001b[0m\n\u001b[0;31mSyntaxError\u001b[0m\u001b[0;31m:\u001b[0m invalid syntax\n"
     ]
    }
   ],
   "source": [
    "URLS = [x'http://www.education.gov.za', 'https://www.saps.gov.za', 'https://www.gcis.gov.za', 'https://unemployededucators.gauteng.gov.za', 'https://www.dsac.gov.za', 'https://ndlambe.gov.za', 'https://www.gtac.gov.za', 'https://ecprov.gov.za', 'https://www.emalahlenilm.gov.za', ]"
   ]
  },
  {
   "cell_type": "code",
   "execution_count": null,
   "id": "a3241b54-2b2d-496c-9a03-58bcdc1889f3",
   "metadata": {},
   "outputs": [],
   "source": [
    "URLS = list(set(URLS))"
   ]
  },
  {
   "cell_type": "code",
   "execution_count": null,
   "id": "7a20afa8-1de8-4dec-994b-07e9e649eb7d",
   "metadata": {},
   "outputs": [],
   "source": [
    "print(len(URLS))"
   ]
  },
  {
   "cell_type": "code",
   "execution_count": null,
   "id": "64ad2628-cb30-46bb-b4e8-6ca8842b455f",
   "metadata": {},
   "outputs": [],
   "source": [
    "nest_asyncio.apply()\n",
    "\n"
   ]
  },
  {
   "cell_type": "code",
   "execution_count": null,
   "id": "f6ed22ff-91a0-4a27-90ca-94ce22dfd329",
   "metadata": {},
   "outputs": [],
   "source": [
    "js_commands = [\n",
    "    \"window.scrollTo(0, document.body.scrollHeight);\",\n",
    "    #\"document.querySelector('.load-more').click();\",\n",
    "    #\"document.querySelector('#consent-button').click();\"\n",
    "]"
   ]
  },
  {
   "cell_type": "code",
   "execution_count": null,
   "id": "a7068f5c-53e9-4789-b228-93fd0545768f",
   "metadata": {},
   "outputs": [],
   "source": [
    "import asyncio\n",
    "from crawl4ai import AsyncWebCrawler\n",
    "\n",
    "async def crawl(sem, url, content):\n",
    "    async with sem:\n",
    "        async with AsyncWebCrawler(verbose=True) as crawler:\n",
    "            result = await crawler.arun(\n",
    "                url=url,\n",
    "                js_code=js_commands,\n",
    "                word_count_threshold=10,        # Minimum words per content block\n",
    "                exclude_external_links=True,    # Remove external links\n",
    "                remove_overlay_elements=True,   # Remove popups/modals\n",
    "                process_iframes=False,          # Process iframe content\n",
    "                excluded_tags=['form', 'nav'], # Exclude specific tags\n",
    "                remove_overlay_elements=True   # Remove popups and modals\n",
    "            )\n",
    "    \n",
    "            #print(result.markdown[:100])\n",
    "            content.append(result)\n",
    "            #return result\n",
    "\n",
    "#asyncio.run(main())"
   ]
  },
  {
   "cell_type": "code",
   "execution_count": null,
   "id": "7c3882a3-b199-49cb-9455-63c2520c53d9",
   "metadata": {},
   "outputs": [],
   "source": [
    "content = []\n",
    "counter = 0"
   ]
  },
  {
   "cell_type": "code",
   "execution_count": null,
   "id": "62062b68-6664-4c43-bc4a-49ece3e6a984",
   "metadata": {},
   "outputs": [],
   "source": [
    "async def main():\n",
    "    sem = asyncio.Semaphore(10)\n",
    "    print(\"Setting up tasks\")\n",
    "    tasks = [asyncio.create_task(crawl(sem,x, content)) for x in [\"https://old.dalrrd.gov.za/docs/media/KZN%20PES%202%20ROLL-OUT%20PLAN%20per%20district%20-25%20NOV'22.xlsx\"] ]\n",
    "    print(\"await gather\")\n",
    "    await asyncio.gather(*tasks)\n",
    "\n"
   ]
  },
  {
   "cell_type": "code",
   "execution_count": null,
   "id": "7c943dac-2133-495a-80ba-2e0f69a83d80",
   "metadata": {},
   "outputs": [],
   "source": [
    "asyncio.run(main())"
   ]
  },
  {
   "cell_type": "code",
   "execution_count": null,
   "id": "5efb73ab-c510-4fb8-ade2-07eb6016eb42",
   "metadata": {},
   "outputs": [],
   "source": [
    "for x in URLS:\n",
    "    content.append(await crawl(x))\n",
    "    counter = counter +1 \n",
    "    print(counter)\n",
    "    \n",
    "    "
   ]
  },
  {
   "cell_type": "code",
   "execution_count": null,
   "id": "ea9baca6-493b-478c-939f-45e9f684b485",
   "metadata": {},
   "outputs": [],
   "source": [
    "print(len(content))"
   ]
  },
  {
   "cell_type": "code",
   "execution_count": null,
   "id": "acae8789-a5e7-4322-aa1a-bb4762f203e9",
   "metadata": {},
   "outputs": [],
   "source": [
    "print(content[2].fit_markdown)"
   ]
  },
  {
   "cell_type": "code",
   "execution_count": null,
   "id": "42c430da-e803-4b7e-8918-a18faeec745c",
   "metadata": {},
   "outputs": [],
   "source": [
    "import json"
   ]
  },
  {
   "cell_type": "code",
   "execution_count": null,
   "id": "bc2db59a-121c-43a9-ba09-3934905ebd73",
   "metadata": {},
   "outputs": [],
   "source": [
    "print(json.dumps(content[2].__dict__))"
   ]
  },
  {
   "cell_type": "code",
   "execution_count": null,
   "id": "c5a6f58c-9679-4dc5-84a9-87b1060e50ee",
   "metadata": {},
   "outputs": [],
   "source": [
    "print(json.dumps(content[2].links))"
   ]
  },
  {
   "cell_type": "code",
   "execution_count": null,
   "id": "66d6e03d-6024-494f-94dc-84926055fdf6",
   "metadata": {},
   "outputs": [],
   "source": []
  }
 ],
 "metadata": {
  "kernelspec": {
   "display_name": "Python 3 (ipykernel)",
   "language": "python",
   "name": "python3"
  },
  "language_info": {
   "codemirror_mode": {
    "name": "ipython",
    "version": 3
   },
   "file_extension": ".py",
   "mimetype": "text/x-python",
   "name": "python",
   "nbconvert_exporter": "python",
   "pygments_lexer": "ipython3",
   "version": "3.12.4"
  }
 },
 "nbformat": 4,
 "nbformat_minor": 5
}
